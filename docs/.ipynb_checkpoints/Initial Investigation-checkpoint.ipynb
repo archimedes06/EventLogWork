{
 "cells": [
  {
   "cell_type": "markdown",
   "metadata": {},
   "source": [
    "<p><font size=10> Initial Investigation of windows evt files </font></p>\n"
   ]
  },
  {
   "cell_type": "markdown",
   "metadata": {},
   "source": [
    "<font size=4 style=\"color:blue\">Libraries and imports</font>"
   ]
  },
  {
   "cell_type": "code",
   "execution_count": 25,
   "metadata": {
    "collapsed": false
   },
   "outputs": [],
   "source": [
    "import pandas as pd\n",
    "import os\n",
    "import sys\n",
    "import Evtx\n"
   ]
  },
  {
   "cell_type": "markdown",
   "metadata": {},
   "source": [
    "<font size=4 style=\"color:blue\">Working Directories</font>"
   ]
  },
  {
   "cell_type": "code",
   "execution_count": 19,
   "metadata": {
    "collapsed": false
   },
   "outputs": [],
   "source": [
    "docsDir=os.getcwd()\n",
    "baseDir=os.path.abspath(docsDir+\"/..\")\n",
    "dataDir=os.path.abspath(baseDir+\"/data\")\n",
    "rawDataDir=os.path.abspath(dataDir+\"/raw\")\n",
    "srcDir=os.path.abspath(baseDir+\"/src\")\n",
    "\n",
    "#this log was taken directly from the windows logs\n",
    "eventLog=rawDataDir+\"Application.evtx\"\n",
    "\n",
    "#this log was parsed using evtxdump.py (currently in the scripts folder), and taken from https://github.com/williballenthin/python-evtx/blob/master/scripts/evtxdump.py\n",
    "#was converted as... $python evtxdump ../data/raw/Application.evtx > ../data/raw/application.xml\n",
    "xmlLog=rawDataDir+\"application.xml\"\n",
    "\n",
    "#the log in json format... converted using the code in scripts/scalaXmlToJson\n",
    "jsonLog=rawDataDir+\"application.json\"\n"
   ]
  },
  {
   "cell_type": "markdown",
   "metadata": {},
   "source": [
    "<p>\n",
    "  <font size=4>\n",
    "    Hive Resources\n",
    "  </font>\n",
    "</p>\n",
    "<url>http://thornydev.blogspot.com/2013/07/querying-json-records-via-hive.html</url>"
   ]
  },
  {
   "cell_type": "code",
   "execution_count": null,
   "metadata": {
    "collapsed": true
   },
   "outputs": [],
   "source": []
  }
 ],
 "metadata": {
  "kernelspec": {
   "display_name": "Python 2",
   "language": "python",
   "name": "python2"
  },
  "language_info": {
   "codemirror_mode": {
    "name": "ipython",
    "version": 2
   },
   "file_extension": ".py",
   "mimetype": "text/x-python",
   "name": "python",
   "nbconvert_exporter": "python",
   "pygments_lexer": "ipython2",
   "version": "2.7.9"
  }
 },
 "nbformat": 4,
 "nbformat_minor": 0
}
